{
 "cells": [
  {
   "cell_type": "code",
   "execution_count": 1,
   "metadata": {},
   "outputs": [],
   "source": [
    "import numpy as np\n",
    "from numpy import linalg as LA\n",
    "from sympy import *"
   ]
  },
  {
   "cell_type": "code",
   "execution_count": 2,
   "metadata": {},
   "outputs": [],
   "source": [
    "def generate_Gaussian_random_vector(mu,sigma,d,n):\n",
    "    \n",
    "    generated_points = np.zeros((d,n))\n",
    "    \n",
    "    for j in range(d):\n",
    "        r = 0\n",
    "        for z in range(12):\n",
    "            r = r + np.random.uniform(0,1,n)\n",
    "        r = r - 6\n",
    "        \n",
    "\n",
    "        generated_points[j,:] = r\n",
    "\n",
    "    w, v = LA.eig(sigma)\n",
    "        \n",
    "\n",
    "    q = np.dot(np.power(np.diag(w),1/2),generated_points)\n",
    "    \n",
    "    x = np.dot(v,q)\n",
    "    \n",
    "    \n",
    "    for i in range (n):\n",
    "        x[:,i] = x[:,i] + mu\n",
    "        \n",
    "    \n",
    "    return x"
   ]
  },
  {
   "cell_type": "code",
   "execution_count": 3,
   "metadata": {},
   "outputs": [],
   "source": [
    "def diagonalize(a,b,c,alfa,beta,x1,w1,v1,x2,w2,v2,sigma1,sigma2,mu1,mu2):\n",
    "    \n",
    "\n",
    "    \n",
    "    \n",
    "    \n",
    "    \n",
    "    sigma_y = np.dot(np.transpose(v1),sigma1)\n",
    "    sigma_y2 = np.dot(np.transpose(v1),sigma2)\n",
    "    sigma_y = np.dot(sigma_y,v1)\n",
    "    sigma_y2 = np.dot(sigma_y2,v1)\n",
    "    \n",
    "    print(\"The sigma for x1 after digonalizing\")\n",
    "    print(sigma_y)\n",
    "    \n",
    "    sigma_z = np.dot(np.diag(np.power(w1,-1/2)),sigma_y)\n",
    "    sigma_z2 = np.dot(np.diag(np.power(w1,-1/2)),sigma_y2)\n",
    "    sigma_z = np.dot(sigma_z,np.diag(np.power(w1,-1/2)))\n",
    "    sigma_z2_ = np.dot(sigma_z2,np.diag(np.power(w1,-1/2)))\n",
    "    print(\"The sigma for x1 after converting to identitiy\")\n",
    "    print(sigma_z)\n",
    "    w_z, v_z = LA.eig(sigma_z2_)\n",
    "    \n",
    "    \n",
    "    \n",
    "    \n",
    "    \n",
    "    sigma_v2 = np.matmul(np.transpose(v_z),sigma_z2_)\n",
    "    sigma_v2_ = np.matmul(sigma_v2,v_z)\n",
    "    \n",
    "    sigma_v1 = np.matmul(np.transpose(v_z),sigma_z)\n",
    "    sigma_v1 = np.matmul(sigma_v1,v_z)\n",
    "    print(\"the sigma for x2 after diagonalizing\")\n",
    "    print(sigma_v2_)\n",
    "    print(w_z)\n",
    "    \n",
    "    print(\"The sigma for x1 after all the changes\")\n",
    "    print(sigma_v1)\n",
    "    \n",
    "    \n",
    "    \n",
    "    y1 = np.matmul(np.transpose(v1),x1) \n",
    "    mu1 = np.matmul(np.transpose(v1),mu1)\n",
    "    y2 = np.matmul(np.transpose(v1),x2)\n",
    "    mu2 = np.matmul(np.transpose(v1),mu2)\n",
    "    z1 = np.matmul(np.diag(np.power(w1,-1/2)),y1)\n",
    "    mu1 = np.matmul(np.diag(np.power(w1,-1/2)),mu1)\n",
    "    z2 = np.matmul(np.diag(np.power(w1,-1/2)),y2)\n",
    "    mu2 = np.matmul(np.diag(np.power(w1,-1/2)),mu2)\n",
    "    q1 = np.matmul(np.transpose(v_z),z1)\n",
    "    mu1 = np.matmul(np.transpose(v_z),mu1)\n",
    "    q2 = np.matmul(np.transpose(v_z),z2)\n",
    "    mu2 = np.matmul(np.transpose(v_z),mu2)\n",
    "    \n",
    "\n",
    "\n",
    "    print(\"checking\")\n",
    "    \n",
    "    sigma_z2_ei = np.dot(np.transpose(v1),v2)\n",
    "    sigma_z2_ei = np.dot(np.diag(np.power(w1,-1/2)),sigma_z2_ei)\n",
    "    \n",
    "    sigma_v2 = np.dot(np.transpose(sigma_z2_ei),sigma_z2_)\n",
    "    \n",
    "    print(sigma_v2_)\n",
    "    \n",
    "    return q1,q2,sigma_v1,sigma_v2_,mu1,mu2,v_z\n"
   ]
  },
  {
   "cell_type": "code",
   "execution_count": 4,
   "metadata": {},
   "outputs": [],
   "source": [
    "def diagonalize_point(x,v1,w1,v2,v_z):\n",
    "#     v_z = np.matmul(np.transpose(v1),v2)\n",
    "#     v_z = np.matmul(np.diag(np.power(w1,-1/2)),v_z)\n",
    "    y1 = np.dot(np.transpose(v1),x)\n",
    "    print(y1.shape)\n",
    "    z1 = np.dot(np.diag(np.power(w1,-1/2)),y1)\n",
    "    print(z1.shape)\n",
    "    q1 = np.dot(np.transpose(v_z),z1)\n",
    "    print(q1.shape)\n",
    "    return q1"
   ]
  },
  {
   "cell_type": "code",
   "execution_count": 5,
   "metadata": {},
   "outputs": [],
   "source": [
    "import matplotlib.pyplot as plt\n",
    "from matplotlib.pyplot import figure\n",
    "\n",
    "def display(x1,x2,index_size):\n",
    "    plt.subplots()\n",
    "    plt.title(\"First and second dimension\")\n",
    "    plt.plot(x1[0], x1[1], 'o',label = \"x1\")\n",
    "    plt.plot(x2[0], x2[1], 'o', label = \"x2\")\n",
    "    print(np.mean(x1[2]))\n",
    "    plt.xlim(-index_size,index_size)\n",
    "    plt.ylim(-index_size,index_size)\n",
    "    plt.legend()\n",
    "    plt.subplots()\n",
    "    plt.title(\"Second and third dimension\")\n",
    "    plt.plot(x1[1], x1[2], 'o',label = \"x1\")\n",
    "    plt.plot(x2[1], x2[2], 'o',label = \"x2\")\n",
    "    print(np.mean(x1[2]))\n",
    "    plt.xlim(-index_size,index_size)\n",
    "    plt.ylim(-index_size,index_size)\n",
    "\n",
    "    plt.legend()\n",
    "    \n",
    "    plt.subplots()\n",
    "    plt.title(\"First and third dimension\")\n",
    "    plt.plot(x1[0], x1[2], 'o',label = \"x1\")\n",
    "    plt.plot(x2[0], x2[2], 'o',label = \"x2\")\n",
    "    print(np.mean(x1[2]))\n",
    "    plt.xlim(-index_size,index_size)\n",
    "    plt.ylim(-index_size,index_size)\n",
    "\n",
    "    plt.legend()\n",
    "    plt.show()"
   ]
  },
  {
   "cell_type": "code",
   "execution_count": 6,
   "metadata": {},
   "outputs": [],
   "source": [
    "def generate_classifier(sigma1,mu1,sigma2,mu2):\n",
    "    A = (np.linalg.inv(sigma2) - np.linalg.inv(sigma1))\n",
    "    B = (np.dot(np.transpose(mu1),np.linalg.inv(sigma1)) - np.dot(np.transpose(mu2),np.linalg.inv(sigma2)))\n",
    "    C = 1/2 * np.log(np.linalg.det(sigma2)/np.linalg.det(sigma1)) + (np.dot(np.dot(np.transpose(mu2),np.linalg.inv(sigma2)),mu2) - np.dot(np.dot(np.transpose(mu1), np.linalg.inv(sigma1)),mu1))* 1/2\n",
    "    return A,B,C"
   ]
  },
  {
   "cell_type": "code",
   "execution_count": 7,
   "metadata": {},
   "outputs": [],
   "source": [
    "from sympy import *\n",
    "x, y, z, t = symbols('x y z t')\n",
    "def get_points(a,b,d,x3):\n",
    "    first_classifier = []\n",
    "    second_classifier = []\n",
    "    x1_points = []\n",
    "    \n",
    "    for x1 in np.arange(-100, 100, 0.5):\n",
    "#         a =  list(solveset(Eq(A[0,0]*x1**2 + A[1,1]*y**2 + A[2,2]*x3**2,0 + (A[1,0]+A[0,1])*x1*y+ (A[2,0]+A[0,2])*x1*x3 + (A[1,2]+A[2,1])*y*x3,0),y))\n",
    "        v =  list(solveset(Eq(a[0,0]*(x1**2) + a[1,1]*(y**2) + a[2,2]*(x3**2) + (a[0,1]+a[1,0])*x1*y+ (a[0,2]+a[2,0])*x1*x3 + (a[1,2]+a[2,1])*y*x3 + (b[0]*x1) + (b[1]*y) + (b[2] * x3) + d,0),y))\n",
    "        if type(v[0])is not Add:\n",
    "            if len(v) > 1 : \n",
    "                first_classifier.append(v[0])\n",
    "                second_classifier.append(v[1])\n",
    "                x1_points.append(x1)\n",
    "#                 print(a)\n",
    "            else:\n",
    "                x1_points.append(x1)\n",
    "                first_classifier.append(v[0])\n",
    "                second_classifier.append(v[0])\n",
    "#                 print(a)\n",
    "        \n",
    "#         print(\"next point\")\n",
    "    return first_classifier,second_classifier,x1_points"
   ]
  },
  {
   "cell_type": "code",
   "execution_count": 8,
   "metadata": {},
   "outputs": [],
   "source": [
    "import matplotlib.pyplot as plt\n",
    "from matplotlib.pyplot import figure\n",
    "def display_x3(x1,x2, z1,z2,z3):\n",
    "    plt.subplots()\n",
    "    plt.title(\"First and second dimension\")\n",
    "    plt.plot(x1[0], x1[1], 'o',label = \"x1\")\n",
    "    plt.plot(x2[0], x2[1], 'o', label = \"x2\")\n",
    "    plt.plot(z3,z1,'r--',label = \"classifier\")\n",
    "    plt.plot(z3,z2,'r--',label = \"classifier\")\n",
    "    plt.xlim(-10,10)\n",
    "    plt.ylim(-10,10)\n",
    "\n",
    "    plt.legend()\n",
    "\n",
    "    \n"
   ]
  },
  {
   "cell_type": "code",
   "execution_count": 9,
   "metadata": {},
   "outputs": [],
   "source": [
    "from matplotlib.pyplot import figure\n",
    "def display_x1(x_1_,x_2_, z_1_,z_2_,z_3_):\n",
    "    plt.subplots()\n",
    "    plt.title(\"second and third dimension\")\n",
    "    plt.plot(x_1_[1], x_1_[2], 'o',label = \"x1\")\n",
    "    plt.plot(x_2_[1], x_2_[2], 'o', label = \"x2\")\n",
    "    plt.plot(z_3_,z_1_,'r--',label = \"classifier\")\n",
    "    plt.plot(z_3_,z_2_,'r--',label = \"classifier\")\n",
    "    plt.xlim(-10,10)\n",
    "    plt.ylim(-10,10)\n",
    "\n",
    "    plt.legend()"
   ]
  },
  {
   "cell_type": "code",
   "execution_count": 10,
   "metadata": {},
   "outputs": [],
   "source": [
    "def get_points_x1(a,b,d,x1):\n",
    "    first_classifier = []\n",
    "    second_classifier = []\n",
    "    x2_points = []\n",
    "    for x2 in np.arange(-100, 100, 0.5):\n",
    "#         a =  list(solveset(Eq(A[0,0]*x1**2 + A[1,1]*y**2 + A[2,2]*x3**2,0 + (A[1,0]+A[0,1])*x1*y+ (A[2,0]+A[0,2])*x1*x3 + (A[1,2]+A[2,1])*y*x3,0),y))\n",
    "        v =  list(solveset(Eq(a[0,0]*(x1**2) + a[1,1]*(x2**2) + a[2,2]*(t**2) + (a[0,1]+a[1,0])*x1*x2+ (a[0,2]+a[2,0])*x1*t + (a[1,2]+a[2,1])*x2*t + (b[0]*x1) + (b[1]*x2) + (b[2] * t) + d,0),t))\n",
    "        if type(v[0])is not Add:\n",
    "            if len(v) > 1 and  not isinstance(v[0], complex):\n",
    "                first_classifier.append(v[0])\n",
    "                second_classifier.append(v[1])\n",
    "                x2_points.append(x2)\n",
    "#                 print(v)\n",
    "            else:\n",
    "                x2_points.append(x2)\n",
    "                first_classifier.append(v[0])\n",
    "                second_classifier.append(v[0])\n",
    "#                 print(a)\n",
    "#         else:\n",
    "#             print(v)\n",
    "        \n",
    "#         print(\"next point\")\n",
    "    return first_classifier,second_classifier,x2_points"
   ]
  },
  {
   "cell_type": "code",
   "execution_count": 11,
   "metadata": {},
   "outputs": [],
   "source": [
    "def test_classifier(a,b,c,x1_t,x2_t):\n",
    "    true_prediction = 0\n",
    "    \n",
    "    for i in range(len(x1_t[0])):\n",
    "\n",
    "        x1 = x1_t[0,i]\n",
    "        y = x1_t[1,i]\n",
    "        x3 = x1_t[2,i]\n",
    "        \n",
    "        classification = np.dot(np.dot(np.transpose(x1_t[:,i]),a),x1_t[:,i]) + np.dot(np.transpose(b),x1_t[:,i]) + c\n",
    "        classification_1 =   a[0,0]*(x1**2) + a[1,1]*(y**2) + a[2,2]*(x3**2) + (2*a[0,1])*x1*y+ (2*a[0,2])*x1*x3 + (2*a[1,2])*y*x3 + (b[0]*x1) + (b[1]*y) + (b[2] * x3) + c\n",
    "\n",
    "        if classification >= 0:\n",
    "                true_prediction += 1\n",
    "                print(classification)\n",
    "    for j in range (len(x2_t[0])):\n",
    "        classification = np.dot(np.dot(np.transpose(x2_t[:,j]),a),x2_t[:,j]) + np.dot(np.transpose(b),x2_t[:,j]) + c\n",
    "        x1 = x2_t[0,j]\n",
    "        y = x2_t[1,j]\n",
    "        x3 = x2_t[2,j]\n",
    "#         classification =   a[0,0]*(x1**2) + a[1,1]*(y**2) + a[2,2]*(x3**2) + (a[0,1]+a[1,0])*x1*y+ (a[0,2]+a[2,0])*x1*x3 + (a[1,2]+a[2,1])*y*x3 + (b[0]*x1) + (b[1]*y) + (b[2] * x3) + c\n",
    "        if classification < 0:\n",
    "                true_prediction += 1\n",
    "                print(classification)\n",
    "    return true_prediction/400 * 100\n",
    "                "
   ]
  },
  {
   "cell_type": "code",
   "execution_count": 12,
   "metadata": {},
   "outputs": [],
   "source": [
    "def MaximumLiklihood(x1,x2):\n",
    "    \n",
    "#     x1 = np.transpose(x1)\n",
    "#     x1 = np.reshape(x1, (200,3))\n",
    "#     x1 = np.flip(x1)\n",
    "    \n",
    "    x1 = x1.T\n",
    "    x2 = x2.T\n",
    "    n1 = len(x1)\n",
    "    d1 = len(x1[0])\n",
    "    n2 = len(x2)\n",
    "    d2 = len(x2[0])\n",
    "    x1 = np.reshape(x1,(n1,d1,1))\n",
    "    x2 = np.reshape(x2,(n2,d2,1))\n",
    "  \n",
    "    mu_1 = np.zeros((d1,1))\n",
    "    sigma_1 = np.zeros((d1,d1))\n",
    "    mu_2 = np.zeros((d2,1))\n",
    "    sigma_2 = np.zeros((d2,d2))\n",
    "#     estimating the mean for x1 and x2\n",
    "    mu_1 = np.sum(x1,axis = 0)\n",
    "    mu_1 = mu_1*1/n1\n",
    "    mu_1 = np.reshape(mu_1,(3,1))\n",
    "    mu_2 = np.sum(x2,axis = 0)\n",
    "    mu_2 = mu_2*1/n1\n",
    "    mu_2 = np.reshape(mu_2,(3,1))\n",
    "#     estimating sigma for x1 and x2\n",
    "    for i in range(n1):\n",
    "        temp = np.dot((x1[i]-mu_1),(x1[i]-mu_1).T)\n",
    "        sigma_1 += temp\n",
    "    sigma_1 = sigma_1*1/n1\n",
    "    \n",
    "    for i in range(n2):\n",
    "        temp = np.dot((x2[i]-mu_2),(x2[i]-mu_2).T)\n",
    "        sigma_2 += temp\n",
    "    sigma_2 = sigma_2*1/n2\n",
    "    \n",
    "    return sigma_1,mu_1,sigma_2,mu_2"
   ]
  },
  {
   "cell_type": "code",
   "execution_count": 25,
   "metadata": {},
   "outputs": [],
   "source": [
    "def Baysian(x1,x2,sigma1,sigma2,sigma0,mu0):\n",
    "    x1 = x1.T\n",
    "    x2 = x2.T\n",
    "    n1 = len(x1)\n",
    "    d1 = len(x1[0])\n",
    "    n2 = len(x2)\n",
    "    d2 = len(x2[0])\n",
    "#     x1 = np.reshape(x1,(n1,d1,1))\n",
    "#     x2 = np.reshape(x2,(n2,d2,1))\n",
    "    mu1 = 1/n1 * np.dot(np.dot(sigma1, np.linalg.inv(1/n1*sigma1 + sigma0)),mu0) + np.dot(np.dot(sigma0,np.linalg.inv(1/n1*sigma1 + sigma0)),1/n1*np.sum(x1,axis = 0))\n",
    "    mu2 = 1/n2 * np.dot(np.dot(sigma2, np.linalg.inv(1/n2*sigma2 + sigma0)),mu0) + np.dot(np.dot(sigma0,np.linalg.inv(1/n2*sigma2 + sigma0)),1/n2*np.sum(x2,axis = 0))\n",
    "    return mu1,mu2\n",
    "        \n",
    "        \n",
    "        "
   ]
  },
  {
   "cell_type": "code",
   "execution_count": null,
   "metadata": {},
   "outputs": [],
   "source": [
    "def get_baysian_n()"
   ]
  },
  {
   "cell_type": "code",
   "execution_count": 27,
   "metadata": {},
   "outputs": [
    {
     "name": "stdout",
     "output_type": "stream",
     "text": [
      "0.09999441371990393\n",
      "The true sigma 1 is \n",
      "[[ 9.   3.6  4.8]\n",
      " [ 3.6 36.   4.8]\n",
      " [ 4.8  4.8 64. ]]\n",
      "[[ 9.95845323  3.80856764  6.49219188]\n",
      " [ 3.80856764 35.49421283  2.99463558]\n",
      " [ 6.49219188  2.99463558 61.20140145]]\n",
      "[[ 1.83351226]\n",
      " [ 9.75547717]\n",
      " [10.05418356]]\n",
      "The true sigma 2 is \n",
      "[[64.   4.8  2.4]\n",
      " [ 9.6 36.   3.6]\n",
      " [ 2.4  3.6  9. ]]\n",
      "[[56.93034864 11.89577801  1.47623884]\n",
      " [11.89577801 36.55662931  3.40230122]\n",
      " [ 1.47623884  3.40230122  7.49086898]]\n",
      "[[ -2.0832882 ]\n",
      " [ -9.51772082]\n",
      " [-10.14132077]]\n",
      " MU1 for Bayes is \n",
      "[1.4441916  8.09393261 7.44338529]\n",
      "MU2 for Bayes is \n",
      "[-1.34839215 -7.8652816  -9.55365071]\n"
     ]
    }
   ],
   "source": [
    "a =3\n",
    "b = 6\n",
    "c = 8\n",
    "alfa = 0.2\n",
    "beta = 0.1\n",
    "mu1 = [2,10,10]\n",
    "mu2 = [-2,-10,-10]\n",
    "\n",
    "\n",
    "sigma1 = np.array([[np.power(a,2),alfa*a*b,alfa*a*c],[alfa*a*b,np.power(b,2),beta*b*c],[alfa*a*c,beta*b*c,np.power(c,2)]])\n",
    "\n",
    "sigma2 = np.array([[np.power(c,2),beta*b*c,beta*a*c],[alfa*b*c,np.power(b,2),alfa*a*b],[beta*a*c,alfa*a*b,np.power(a,2)]])\n",
    "\n",
    "\n",
    "# sigma1 = np.array([[1,0,0],[0,1,0],[0,0,1]])\n",
    "# sigma2 = np.array([[5,0,0],[0,5,0],[0,0,5]])\n",
    "\n",
    "w1, v1 = LA.eig(sigma1)\n",
    "\n",
    "w2, v2 = LA.eig(sigma2)\n",
    "\n",
    "\n",
    "X1 = generate_Gaussian_random_vector(mu1,sigma1,3,200)\n",
    "\n",
    "X2 = generate_Gaussian_random_vector(mu2,sigma2,3,200)\n",
    "\n",
    "\n",
    "A,B,C = generate_classifier(sigma1,mu1,sigma2,mu2)\n",
    "print(A[2,2])\n",
    "\n",
    "\n",
    "sigma_1,mu_1,sigma_2,mu_2 = MaximumLiklihood(X1,X2)\n",
    "print(f\"The true sigma 1 is \\n{sigma1}\")\n",
    "print(sigma_1)\n",
    "print(mu_1)\n",
    "\n",
    "print(f\"The true sigma 2 is \\n{sigma2}\")\n",
    "print(sigma_2)\n",
    "print(mu_2)\n",
    "sigma0 = np.array([[1,0,0],[0,1,0],[0,0,1]])\n",
    "mu0 = np.array([0,0,0])\n",
    "mu_1_bayes,mu_2_bayes = Baysian(X1,X2,sigma1,sigma2,sigma0,mu0)\n",
    "\n",
    "print(f\" MU1 for Bayes is \\n{mu_1_bayes}\")\n",
    "print(f\"MU2 for Bayes is \\n{mu_2_bayes}\")\n",
    "\n",
    "\n",
    "\n",
    "\n",
    "\n"
   ]
  },
  {
   "cell_type": "code",
   "execution_count": null,
   "metadata": {},
   "outputs": [],
   "source": []
  },
  {
   "cell_type": "code",
   "execution_count": 15,
   "metadata": {},
   "outputs": [],
   "source": [
    "\n",
    "z1,z2,z3 = get_points(A,B,C,0)"
   ]
  },
  {
   "cell_type": "code",
   "execution_count": 16,
   "metadata": {},
   "outputs": [
    {
     "name": "stdout",
     "output_type": "stream",
     "text": [
      "[2, 10, 10]\n"
     ]
    }
   ],
   "source": [
    "print(mu1)"
   ]
  },
  {
   "cell_type": "code",
   "execution_count": 17,
   "metadata": {},
   "outputs": [
    {
     "name": "stdout",
     "output_type": "stream",
     "text": [
      "[[ 9.   3.6  4.8]\n",
      " [ 3.6 36.   4.8]\n",
      " [ 4.8  4.8 64. ]]\n"
     ]
    }
   ],
   "source": [
    "print(sigma1)"
   ]
  },
  {
   "cell_type": "code",
   "execution_count": 18,
   "metadata": {},
   "outputs": [
    {
     "name": "stdout",
     "output_type": "stream",
     "text": [
      "[-2, -10, -10]\n"
     ]
    }
   ],
   "source": [
    "print(mu2)"
   ]
  },
  {
   "cell_type": "code",
   "execution_count": 19,
   "metadata": {},
   "outputs": [
    {
     "name": "stdout",
     "output_type": "stream",
     "text": [
      "[[64.   4.8  2.4]\n",
      " [ 9.6 36.   3.6]\n",
      " [ 2.4  3.6  9. ]]\n"
     ]
    }
   ],
   "source": [
    "print(sigma2)"
   ]
  },
  {
   "cell_type": "code",
   "execution_count": 20,
   "metadata": {},
   "outputs": [
    {
     "name": "stdout",
     "output_type": "stream",
     "text": [
      "9.834526238719798\n",
      "9.834526238719798\n",
      "9.834526238719798\n"
     ]
    },
    {
     "data": {
      "image/png": "[encoded data removed]",
      "text/plain": [
       "<Figure size 432x288 with 1 Axes>"
      ]
     },
     "metadata": {
      "needs_background": "light"
     },
     "output_type": "display_data"
    },
    {
     "data": {
      "image/png": "[encoded data removed]",
      "text/plain": [
       "<Figure size 432x288 with 1 Axes>"
      ]
     },
     "metadata": {
      "needs_background": "light"
     },
     "output_type": "display_data"
    },
    {
     "data": {
      "image/png": "[encoded data removed]",
      "text/plain": [
       "<Figure size 432x288 with 1 Axes>"
      ]
     },
     "metadata": {
      "needs_background": "light"
     },
     "output_type": "display_data"
    }
   ],
   "source": [
    "display(X1,X2,50)"
   ]
  },
  {
   "cell_type": "code",
   "execution_count": 21,
   "metadata": {},
   "outputs": [],
   "source": [
    "z1_2,z2_2,z3_2 = get_points_x1(A,B,C,7)"
   ]
  },
  {
   "cell_type": "code",
   "execution_count": 22,
   "metadata": {
    "scrolled": true
   },
   "outputs": [
    {
     "ename": "TypeError",
     "evalue": "display() takes 3 positional arguments but 5 were given",
     "output_type": "error",
     "traceback": [
      "\u001b[0;31m---------------------------------------------------------------------------\u001b[0m",
      "\u001b[0;31mTypeError\u001b[0m                                 Traceback (most recent call last)",
      "\u001b[0;32m<ipython-input-22-42c4c66db914>\u001b[0m in \u001b[0;36m<module>\u001b[0;34m\u001b[0m\n\u001b[0;32m----> 1\u001b[0;31m \u001b[0mdisplay\u001b[0m\u001b[0;34m(\u001b[0m\u001b[0mX1\u001b[0m\u001b[0;34m,\u001b[0m\u001b[0mX2\u001b[0m\u001b[0;34m,\u001b[0m\u001b[0mz1\u001b[0m\u001b[0;34m,\u001b[0m\u001b[0mz2\u001b[0m\u001b[0;34m,\u001b[0m\u001b[0mz3\u001b[0m\u001b[0;34m)\u001b[0m\u001b[0;34m\u001b[0m\u001b[0;34m\u001b[0m\u001b[0m\n\u001b[0m\u001b[1;32m      2\u001b[0m \u001b[0mdisplay_x1\u001b[0m\u001b[0;34m(\u001b[0m\u001b[0mX1\u001b[0m\u001b[0;34m,\u001b[0m\u001b[0mX2\u001b[0m\u001b[0;34m,\u001b[0m\u001b[0mz1_2\u001b[0m\u001b[0;34m,\u001b[0m\u001b[0mz2_2\u001b[0m\u001b[0;34m,\u001b[0m\u001b[0mz3_2\u001b[0m\u001b[0;34m)\u001b[0m\u001b[0;34m\u001b[0m\u001b[0;34m\u001b[0m\u001b[0m\n",
      "\u001b[0;31mTypeError\u001b[0m: display() takes 3 positional arguments but 5 were given"
     ]
    }
   ],
   "source": [
    "display(X1,X2,z1,z2,z3)\n",
    "display_x1(X1,X2,z1_2,z2_2,z3_2)"
   ]
  },
  {
   "cell_type": "code",
   "execution_count": null,
   "metadata": {},
   "outputs": [],
   "source": [
    "x1_test = generate_Gaussian_random_vector(mu1,sigma1,3,200)\n",
    "x2_test = generate_Gaussian_random_vector(mu2,sigma2,3,200)"
   ]
  },
  {
   "cell_type": "code",
   "execution_count": null,
   "metadata": {},
   "outputs": [],
   "source": [
    "\n",
    "test_classifier(A,B,C,x1_test,x2_test)"
   ]
  },
  {
   "cell_type": "code",
   "execution_count": null,
   "metadata": {},
   "outputs": [],
   "source": [
    "x1_after,x2_after,sigma1_diag,sigma2_diag,mu1_diag,mu2_diag,v_z = diagonalize(a,b,c,alfa,beta,X1,w1,v1,X2,w2,v2,sigma1,sigma2,mu1,mu2)"
   ]
  },
  {
   "cell_type": "code",
   "execution_count": null,
   "metadata": {},
   "outputs": [],
   "source": [
    "display(x1_after,x2_after,10)"
   ]
  },
  {
   "cell_type": "code",
   "execution_count": null,
   "metadata": {},
   "outputs": [],
   "source": [
    "A_,B_,C_ = generate_classifier(sigma1_diag,mu1_diag,sigma2_diag,mu2_diag)"
   ]
  },
  {
   "cell_type": "code",
   "execution_count": null,
   "metadata": {
    "scrolled": true
   },
   "outputs": [],
   "source": [
    "print(np.cov(x1_after),np.cov(x2_after))"
   ]
  },
  {
   "cell_type": "code",
   "execution_count": null,
   "metadata": {},
   "outputs": [],
   "source": [
    "z1,z2,z3 = get_points(A_,B_,C_,-1)\n"
   ]
  },
  {
   "cell_type": "code",
   "execution_count": null,
   "metadata": {},
   "outputs": [],
   "source": [
    "z1_x1,z2_x1,z3_x1 = get_points_x1(A_,B_,C_,2)"
   ]
  },
  {
   "cell_type": "code",
   "execution_count": null,
   "metadata": {},
   "outputs": [],
   "source": [
    "display_x3(x1_after,x2_after,\n",
    "        z1,z2,z3)\n",
    "display_x1(x1_after,x2_after,\n",
    "        z1_x1,z2_x1,z3_x1)"
   ]
  },
  {
   "cell_type": "code",
   "execution_count": null,
   "metadata": {},
   "outputs": [],
   "source": [
    "print(np.cov(x1_after))\n",
    "print(np.cov(x2_after))\n",
    "print(np.mean(x1_after))"
   ]
  },
  {
   "cell_type": "code",
   "execution_count": null,
   "metadata": {},
   "outputs": [],
   "source": [
    "test_classifier(A_,B_,C_,x1_after,x2_after)"
   ]
  },
  {
   "cell_type": "code",
   "execution_count": null,
   "metadata": {},
   "outputs": [],
   "source": [
    "x1_test_diag = diagonalize_point(x1_test,v1,w1,v2,v_z)"
   ]
  },
  {
   "cell_type": "code",
   "execution_count": null,
   "metadata": {},
   "outputs": [],
   "source": [
    "x2_test_diag = diagonalize_point(x2_test,v1,w1,v2,v_z)"
   ]
  },
  {
   "cell_type": "code",
   "execution_count": null,
   "metadata": {},
   "outputs": [],
   "source": [
    "test_classifier(A_,B_,C_,x1_test_diag,x2_test_diag)"
   ]
  },
  {
   "cell_type": "code",
   "execution_count": null,
   "metadata": {},
   "outputs": [],
   "source": []
  }
 ],
 "metadata": {
  "kernelspec": {
   "display_name": "Python 3",
   "language": "python",
   "name": "python3"
  },
  "language_info": {
   "codemirror_mode": {
    "name": "ipython",
    "version": 3
   },
   "file_extension": ".py",
   "mimetype": "text/x-python",
   "name": "python",
   "nbconvert_exporter": "python",
   "pygments_lexer": "ipython3",
   "version": "3.7.3"
  }
 },
 "nbformat": 4,
 "nbformat_minor": 2
}
